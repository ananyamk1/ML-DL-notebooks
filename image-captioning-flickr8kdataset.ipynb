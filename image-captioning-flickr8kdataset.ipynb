{
 "cells": [
  {
   "cell_type": "code",
   "execution_count": 1,
   "metadata": {
    "execution": {
     "iopub.execute_input": "2023-07-24T12:10:56.920477Z",
     "iopub.status.busy": "2023-07-24T12:10:56.920118Z",
     "iopub.status.idle": "2023-07-24T12:11:21.929071Z",
     "shell.execute_reply": "2023-07-24T12:11:21.927920Z",
     "shell.execute_reply.started": "2023-07-24T12:10:56.920445Z"
    }
   },
   "outputs": [
    {
     "name": "stdout",
     "output_type": "stream",
     "text": [
      "Requirement already satisfied: modules in c:\\users\\anany\\anaconda3\\lib\\site-packages (1.0.0)\n",
      "Requirement already satisfied: tensorflow in c:\\users\\anany\\anaconda3\\lib\\site-packages (2.10.0)\n",
      "Requirement already satisfied: termcolor>=1.1.0 in c:\\users\\anany\\anaconda3\\lib\\site-packages (from tensorflow) (2.0.1)\n",
      "Requirement already satisfied: opt-einsum>=2.3.2 in c:\\users\\anany\\anaconda3\\lib\\site-packages (from tensorflow) (3.3.0)\n",
      "Requirement already satisfied: packaging in c:\\users\\anany\\anaconda3\\lib\\site-packages (from tensorflow) (21.3)\n",
      "Requirement already satisfied: protobuf<3.20,>=3.9.2 in c:\\users\\anany\\anaconda3\\lib\\site-packages (from tensorflow) (3.19.1)\n",
      "Requirement already satisfied: google-pasta>=0.1.1 in c:\\users\\anany\\anaconda3\\lib\\site-packages (from tensorflow) (0.2.0)\n",
      "Requirement already satisfied: absl-py>=1.0.0 in c:\\users\\anany\\anaconda3\\lib\\site-packages (from tensorflow) (1.2.0)\n",
      "Requirement already satisfied: grpcio<2.0,>=1.24.3 in c:\\users\\anany\\anaconda3\\lib\\site-packages (from tensorflow) (1.42.0)\n",
      "Requirement already satisfied: astunparse>=1.6.0 in c:\\users\\anany\\anaconda3\\lib\\site-packages (from tensorflow) (1.6.3)\n",
      "Requirement already satisfied: flatbuffers>=2.0 in c:\\users\\anany\\anaconda3\\lib\\site-packages (from tensorflow) (22.9.24)\n",
      "Requirement already satisfied: keras-preprocessing>=1.1.1 in c:\\users\\anany\\anaconda3\\lib\\site-packages (from tensorflow) (1.1.2)\n",
      "Requirement already satisfied: numpy>=1.20 in c:\\users\\anany\\anaconda3\\lib\\site-packages (from tensorflow) (1.21.5)\n",
      "Requirement already satisfied: keras<2.11,>=2.10.0 in c:\\users\\anany\\anaconda3\\lib\\site-packages (from tensorflow) (2.10.0)\n",
      "Requirement already satisfied: wrapt>=1.11.0 in c:\\users\\anany\\anaconda3\\lib\\site-packages (from tensorflow) (1.12.1)\n",
      "Requirement already satisfied: libclang>=13.0.0 in c:\\users\\anany\\anaconda3\\lib\\site-packages (from tensorflow) (14.0.6)\n",
      "Requirement already satisfied: tensorboard<2.11,>=2.10 in c:\\users\\anany\\anaconda3\\lib\\site-packages (from tensorflow) (2.10.1)\n",
      "Requirement already satisfied: tensorflow-io-gcs-filesystem>=0.23.1 in c:\\users\\anany\\anaconda3\\lib\\site-packages (from tensorflow) (0.27.0)\n",
      "Requirement already satisfied: tensorflow-estimator<2.11,>=2.10.0 in c:\\users\\anany\\anaconda3\\lib\\site-packages (from tensorflow) (2.10.0)\n",
      "Requirement already satisfied: h5py>=2.9.0 in c:\\users\\anany\\anaconda3\\lib\\site-packages (from tensorflow) (3.6.0)\n",
      "Requirement already satisfied: typing-extensions>=3.6.6 in c:\\users\\anany\\anaconda3\\lib\\site-packages (from tensorflow) (4.1.1)\n",
      "Requirement already satisfied: six>=1.12.0 in c:\\users\\anany\\anaconda3\\lib\\site-packages (from tensorflow) (1.16.0)\n",
      "Requirement already satisfied: setuptools in c:\\users\\anany\\anaconda3\\lib\\site-packages (from tensorflow) (61.2.0)\n",
      "Requirement already satisfied: gast<=0.4.0,>=0.2.1 in c:\\users\\anany\\anaconda3\\lib\\site-packages (from tensorflow) (0.4.0)\n",
      "Requirement already satisfied: wheel<1.0,>=0.23.0 in c:\\users\\anany\\anaconda3\\lib\\site-packages (from astunparse>=1.6.0->tensorflow) (0.37.1)\n",
      "Requirement already satisfied: werkzeug>=1.0.1 in c:\\users\\anany\\anaconda3\\lib\\site-packages (from tensorboard<2.11,>=2.10->tensorflow) (2.0.3)\n",
      "Requirement already satisfied: markdown>=2.6.8 in c:\\users\\anany\\anaconda3\\lib\\site-packages (from tensorboard<2.11,>=2.10->tensorflow) (3.3.4)\n",
      "Requirement already satisfied: requests<3,>=2.21.0 in c:\\users\\anany\\anaconda3\\lib\\site-packages (from tensorboard<2.11,>=2.10->tensorflow) (2.27.1)\n",
      "Requirement already satisfied: google-auth-oauthlib<0.5,>=0.4.1 in c:\\users\\anany\\anaconda3\\lib\\site-packages (from tensorboard<2.11,>=2.10->tensorflow) (0.4.6)\n",
      "Requirement already satisfied: google-auth<3,>=1.6.3 in c:\\users\\anany\\anaconda3\\lib\\site-packages (from tensorboard<2.11,>=2.10->tensorflow) (1.33.0)\n",
      "Requirement already satisfied: tensorboard-data-server<0.7.0,>=0.6.0 in c:\\users\\anany\\anaconda3\\lib\\site-packages (from tensorboard<2.11,>=2.10->tensorflow) (0.6.1)\n",
      "Requirement already satisfied: tensorboard-plugin-wit>=1.6.0 in c:\\users\\anany\\anaconda3\\lib\\site-packages (from tensorboard<2.11,>=2.10->tensorflow) (1.8.1)\n",
      "Requirement already satisfied: rsa<5,>=3.1.4 in c:\\users\\anany\\anaconda3\\lib\\site-packages (from google-auth<3,>=1.6.3->tensorboard<2.11,>=2.10->tensorflow) (4.7.2)\n",
      "Requirement already satisfied: pyasn1-modules>=0.2.1 in c:\\users\\anany\\anaconda3\\lib\\site-packages (from google-auth<3,>=1.6.3->tensorboard<2.11,>=2.10->tensorflow) (0.2.8)\n",
      "Requirement already satisfied: cachetools<5.0,>=2.0.0 in c:\\users\\anany\\anaconda3\\lib\\site-packages (from google-auth<3,>=1.6.3->tensorboard<2.11,>=2.10->tensorflow) (4.2.2)\n",
      "Requirement already satisfied: requests-oauthlib>=0.7.0 in c:\\users\\anany\\anaconda3\\lib\\site-packages (from google-auth-oauthlib<0.5,>=0.4.1->tensorboard<2.11,>=2.10->tensorflow) (1.3.1)\n",
      "Requirement already satisfied: pyasn1<0.5.0,>=0.4.6 in c:\\users\\anany\\anaconda3\\lib\\site-packages (from pyasn1-modules>=0.2.1->google-auth<3,>=1.6.3->tensorboard<2.11,>=2.10->tensorflow) (0.4.8)\n",
      "Requirement already satisfied: urllib3<1.27,>=1.21.1 in c:\\users\\anany\\anaconda3\\lib\\site-packages (from requests<3,>=2.21.0->tensorboard<2.11,>=2.10->tensorflow) (1.26.9)\n",
      "Requirement already satisfied: certifi>=2017.4.17 in c:\\users\\anany\\anaconda3\\lib\\site-packages (from requests<3,>=2.21.0->tensorboard<2.11,>=2.10->tensorflow) (2021.10.8)\n",
      "Requirement already satisfied: charset-normalizer~=2.0.0 in c:\\users\\anany\\anaconda3\\lib\\site-packages (from requests<3,>=2.21.0->tensorboard<2.11,>=2.10->tensorflow) (2.0.4)\n",
      "Requirement already satisfied: idna<4,>=2.5 in c:\\users\\anany\\anaconda3\\lib\\site-packages (from requests<3,>=2.21.0->tensorboard<2.11,>=2.10->tensorflow) (3.3)\n",
      "Requirement already satisfied: oauthlib>=3.0.0 in c:\\users\\anany\\anaconda3\\lib\\site-packages (from requests-oauthlib>=0.7.0->google-auth-oauthlib<0.5,>=0.4.1->tensorboard<2.11,>=2.10->tensorflow) (3.2.1)\n",
      "Requirement already satisfied: pyparsing!=3.0.5,>=2.0.2 in c:\\users\\anany\\anaconda3\\lib\\site-packages (from packaging->tensorflow) (3.0.4)\n"
     ]
    }
   ],
   "source": [
    "!pip install modules\n",
    "import modules\n",
    "import pickle\n",
    "import numpy as np\n",
    "from tqdm.notebook import tqdm\n",
    "import os\n",
    "!pip install tensorflow\n",
    "from tensorflow.keras.applications.vgg16 import VGG16, preprocess_input\n",
    "from tensorflow.keras.preprocessing.image import load_img, img_to_array\n",
    "from tensorflow.keras.preprocessing.text import Tokenizer\n",
    "from tensorflow.keras.preprocessing.sequence import pad_sequences\n",
    "from tensorflow.keras.models import Model\n",
    "\n",
    "from tensorflow.keras.utils import to_categorical, plot_model\n",
    "from tensorflow.keras.layers import Input, Dense, LSTM, Embedding, Dropout, add"
   ]
  },
  {
   "cell_type": "code",
   "execution_count": 2,
   "metadata": {
    "execution": {
     "iopub.execute_input": "2023-07-24T12:11:21.932335Z",
     "iopub.status.busy": "2023-07-24T12:11:21.931420Z",
     "iopub.status.idle": "2023-07-24T12:11:21.940622Z",
     "shell.execute_reply": "2023-07-24T12:11:21.937421Z",
     "shell.execute_reply.started": "2023-07-24T12:11:21.932292Z"
    }
   },
   "outputs": [],
   "source": [
    "BASE_DIR = 'https://www.kaggle.com/datasets/adityajn105/flickr8k?select=Images'\n",
    "WORKING_DIR = '/kaggle/working' "
   ]
  },
  {
   "cell_type": "code",
   "execution_count": 3,
   "metadata": {
    "execution": {
     "iopub.execute_input": "2023-07-24T12:11:21.943789Z",
     "iopub.status.busy": "2023-07-24T12:11:21.942795Z",
     "iopub.status.idle": "2023-07-24T12:11:33.487989Z",
     "shell.execute_reply": "2023-07-24T12:11:33.487093Z",
     "shell.execute_reply.started": "2023-07-24T12:11:21.943753Z"
    }
   },
   "outputs": [
    {
     "name": "stdout",
     "output_type": "stream",
     "text": [
      "Downloading data from https://storage.googleapis.com/tensorflow/keras-applications/vgg16/vgg16_weights_tf_dim_ordering_tf_kernels.h5\n",
      "553467096/553467096 [==============================] - 146s 0us/step\n",
      "Model: \"model\"\n",
      "_________________________________________________________________\n",
      " Layer (type)                Output Shape              Param #   \n",
      "=================================================================\n",
      " input_1 (InputLayer)        [(None, 224, 224, 3)]     0         \n",
      "                                                                 \n",
      " block1_conv1 (Conv2D)       (None, 224, 224, 64)      1792      \n",
      "                                                                 \n",
      " block1_conv2 (Conv2D)       (None, 224, 224, 64)      36928     \n",
      "                                                                 \n",
      " block1_pool (MaxPooling2D)  (None, 112, 112, 64)      0         \n",
      "                                                                 \n",
      " block2_conv1 (Conv2D)       (None, 112, 112, 128)     73856     \n",
      "                                                                 \n",
      " block2_conv2 (Conv2D)       (None, 112, 112, 128)     147584    \n",
      "                                                                 \n",
      " block2_pool (MaxPooling2D)  (None, 56, 56, 128)       0         \n",
      "                                                                 \n",
      " block3_conv1 (Conv2D)       (None, 56, 56, 256)       295168    \n",
      "                                                                 \n",
      " block3_conv2 (Conv2D)       (None, 56, 56, 256)       590080    \n",
      "                                                                 \n",
      " block3_conv3 (Conv2D)       (None, 56, 56, 256)       590080    \n",
      "                                                                 \n",
      " block3_pool (MaxPooling2D)  (None, 28, 28, 256)       0         \n",
      "                                                                 \n",
      " block4_conv1 (Conv2D)       (None, 28, 28, 512)       1180160   \n",
      "                                                                 \n",
      " block4_conv2 (Conv2D)       (None, 28, 28, 512)       2359808   \n",
      "                                                                 \n",
      " block4_conv3 (Conv2D)       (None, 28, 28, 512)       2359808   \n",
      "                                                                 \n",
      " block4_pool (MaxPooling2D)  (None, 14, 14, 512)       0         \n",
      "                                                                 \n",
      " block5_conv1 (Conv2D)       (None, 14, 14, 512)       2359808   \n",
      "                                                                 \n",
      " block5_conv2 (Conv2D)       (None, 14, 14, 512)       2359808   \n",
      "                                                                 \n",
      " block5_conv3 (Conv2D)       (None, 14, 14, 512)       2359808   \n",
      "                                                                 \n",
      " block5_pool (MaxPooling2D)  (None, 7, 7, 512)         0         \n",
      "                                                                 \n",
      " flatten (Flatten)           (None, 25088)             0         \n",
      "                                                                 \n",
      " fc1 (Dense)                 (None, 4096)              102764544 \n",
      "                                                                 \n",
      " fc2 (Dense)                 (None, 4096)              16781312  \n",
      "                                                                 \n",
      "=================================================================\n",
      "Total params: 134,260,544\n",
      "Trainable params: 134,260,544\n",
      "Non-trainable params: 0\n",
      "_________________________________________________________________\n",
      "None\n"
     ]
    }
   ],
   "source": [
    "#extract image features\n",
    "#load vgg16 model\n",
    "\n",
    "model = VGG16() \n",
    "model = Model(inputs=model.inputs, outputs=model.layers[-2].output)\n",
    "#-2 because leaving out the predictions layer. \n",
    "#we only need the feature extraction pattern\n",
    "#summarize\n",
    "print(model.summary())"
   ]
  },
  {
   "cell_type": "code",
   "execution_count": 4,
   "metadata": {
    "execution": {
     "iopub.execute_input": "2023-07-24T12:11:33.491213Z",
     "iopub.status.busy": "2023-07-24T12:11:33.490787Z",
     "iopub.status.idle": "2023-07-24T12:23:23.619975Z",
     "shell.execute_reply": "2023-07-24T12:23:23.619032Z",
     "shell.execute_reply.started": "2023-07-24T12:11:33.491173Z"
    }
   },
   "outputs": [
    {
     "ename": "OSError",
     "evalue": "[WinError 123] The filename, directory name, or volume label syntax is incorrect: 'https://www.kaggle.com/datasets/adityajn105/flickr8k?select=Images\\\\Images'",
     "output_type": "error",
     "traceback": [
      "\u001b[1;31m---------------------------------------------------------------------------\u001b[0m",
      "\u001b[1;31mOSError\u001b[0m                                   Traceback (most recent call last)",
      "Input \u001b[1;32mIn [4]\u001b[0m, in \u001b[0;36m<cell line: 7>\u001b[1;34m()\u001b[0m\n\u001b[0;32m      4\u001b[0m \u001b[38;5;66;03m#dir containing all images\u001b[39;00m\n\u001b[0;32m      5\u001b[0m directory \u001b[38;5;241m=\u001b[39m os\u001b[38;5;241m.\u001b[39mpath\u001b[38;5;241m.\u001b[39mjoin(BASE_DIR, \u001b[38;5;124m'\u001b[39m\u001b[38;5;124mImages\u001b[39m\u001b[38;5;124m'\u001b[39m)\n\u001b[1;32m----> 7\u001b[0m \u001b[38;5;28;01mfor\u001b[39;00m img_name \u001b[38;5;129;01min\u001b[39;00m tqdm(\u001b[43mos\u001b[49m\u001b[38;5;241;43m.\u001b[39;49m\u001b[43mlistdir\u001b[49m\u001b[43m(\u001b[49m\u001b[43mdirectory\u001b[49m\u001b[43m)\u001b[49m):\n\u001b[0;32m      8\u001b[0m     \u001b[38;5;66;03m#load image from file\u001b[39;00m\n\u001b[0;32m      9\u001b[0m     img_path \u001b[38;5;241m=\u001b[39m directory \u001b[38;5;241m+\u001b[39m \u001b[38;5;124m'\u001b[39m\u001b[38;5;124m/\u001b[39m\u001b[38;5;124m'\u001b[39m \u001b[38;5;241m+\u001b[39m img_name\n\u001b[0;32m     10\u001b[0m     \u001b[38;5;66;03m#load image\u001b[39;00m\n",
      "\u001b[1;31mOSError\u001b[0m: [WinError 123] The filename, directory name, or volume label syntax is incorrect: 'https://www.kaggle.com/datasets/adityajn105/flickr8k?select=Images\\\\Images'"
     ]
    }
   ],
   "source": [
    "#extract features from image by creating diction to have akey-value path\n",
    "\n",
    "features={}\n",
    "#dir containing all images\n",
    "directory = os.path.join(BASE_DIR, 'Images')\n",
    "\n",
    "for img_name in tqdm(os.listdir(directory)):\n",
    "    #load image from file\n",
    "    img_path = directory + '/' + img_name\n",
    "    #load image\n",
    "    image = load_img(img_path, target_size=(224,224))\n",
    "    #convert image pixels into numpy array\n",
    "    image = img_to_array(image)\n",
    "    \n",
    "    #reshape data for model\n",
    "    image = image.reshape((1, image.shape[0], image.shape[1], image.shape[2]))\n",
    "    \n",
    "    #prep image for vgg model\n",
    "    image = preprocess_input(image)\n",
    "    \n",
    "    #extract features\n",
    "    feature = model.predict(image, verbose=0)\n",
    "    #get image id after extracting features\n",
    "    image_id = img_name.split('.')[0]\n",
    "    #store features \n",
    "    features[image_id] = feature"
   ]
  },
  {
   "cell_type": "code",
   "execution_count": null,
   "metadata": {
    "execution": {
     "iopub.execute_input": "2023-07-24T12:23:23.622363Z",
     "iopub.status.busy": "2023-07-24T12:23:23.621682Z",
     "iopub.status.idle": "2023-07-24T12:23:24.059748Z",
     "shell.execute_reply": "2023-07-24T12:23:24.058635Z",
     "shell.execute_reply.started": "2023-07-24T12:23:23.622325Z"
    }
   },
   "outputs": [],
   "source": [
    "#store features in pickle\n",
    "pickle.dump(features, open(os.path.join(WORKING_DIR, 'features.pkl'), 'wb'))\n",
    "#this dumps\n",
    "#to reload/load features back from pickle\n",
    "with open(os.path.join(WORKING_DIR, 'features.pkl'), 'rb') as f:\n",
    "    features = pickle.load(f)"
   ]
  },
  {
   "cell_type": "code",
   "execution_count": null,
   "metadata": {
    "execution": {
     "iopub.execute_input": "2023-07-24T12:23:24.064172Z",
     "iopub.status.busy": "2023-07-24T12:23:24.063816Z",
     "iopub.status.idle": "2023-07-24T12:23:24.126932Z",
     "shell.execute_reply": "2023-07-24T12:23:24.125685Z",
     "shell.execute_reply.started": "2023-07-24T12:23:24.064145Z"
    }
   },
   "outputs": [],
   "source": [
    "#load the captions data\n",
    "with open(os.path.join(BASE_DIR, 'captions.txt'), 'r') as f:\n",
    "    next(f)\n",
    "    #using next because we dont need a fresh first line, so to skip it use next()\n",
    "    captions_doc = f.read()\n",
    "    #this will read the whole data"
   ]
  },
  {
   "cell_type": "code",
   "execution_count": null,
   "metadata": {
    "execution": {
     "iopub.execute_input": "2023-07-24T12:23:24.129149Z",
     "iopub.status.busy": "2023-07-24T12:23:24.128506Z",
     "iopub.status.idle": "2023-07-24T12:23:24.136658Z",
     "shell.execute_reply": "2023-07-24T12:23:24.135396Z",
     "shell.execute_reply.started": "2023-07-24T12:23:24.129109Z"
    }
   },
   "outputs": [],
   "source": [
    "#captions_doc"
   ]
  },
  {
   "cell_type": "code",
   "execution_count": null,
   "metadata": {
    "execution": {
     "iopub.execute_input": "2023-07-24T12:23:24.138498Z",
     "iopub.status.busy": "2023-07-24T12:23:24.138185Z",
     "iopub.status.idle": "2023-07-24T12:23:24.299589Z",
     "shell.execute_reply": "2023-07-24T12:23:24.297972Z",
     "shell.execute_reply.started": "2023-07-24T12:23:24.138472Z"
    }
   },
   "outputs": [],
   "source": [
    "#for each image id we will be having a caption\n",
    "#create mapping of image to captions\n",
    "\n",
    "mapping = {}\n",
    "for line in tqdm(captions_doc.split('\\n')):\n",
    "    #split the line by comma\n",
    "    tokens = line.split(',')\n",
    "    #so tokens of 0 will be the image id and tokens of 1 will be the caption\n",
    "    if len(line) < 2:\n",
    "        continue\n",
    "    \n",
    "    #splitting now\n",
    "    image_id, caption = tokens[0], tokens[1:]\n",
    "    #removing extension of jpg from image_id\n",
    "    image_id = image_id.split('.')[0]\n",
    "    #converting caption list into a string\n",
    "    caption = \" \".join(caption)\n",
    "    #create list if needed\n",
    "    if image_id not in mapping:\n",
    "        mapping[image_id]=[]\n",
    "    mapping[image_id].append(caption)"
   ]
  },
  {
   "cell_type": "code",
   "execution_count": null,
   "metadata": {
    "execution": {
     "iopub.execute_input": "2023-07-24T12:23:24.302141Z",
     "iopub.status.busy": "2023-07-24T12:23:24.301049Z",
     "iopub.status.idle": "2023-07-24T12:23:24.310612Z",
     "shell.execute_reply": "2023-07-24T12:23:24.308641Z",
     "shell.execute_reply.started": "2023-07-24T12:23:24.302103Z"
    }
   },
   "outputs": [],
   "source": [
    "len(mapping)"
   ]
  },
  {
   "cell_type": "code",
   "execution_count": null,
   "metadata": {
    "execution": {
     "iopub.execute_input": "2023-07-24T12:23:24.318189Z",
     "iopub.status.busy": "2023-07-24T12:23:24.317800Z",
     "iopub.status.idle": "2023-07-24T12:23:24.333054Z",
     "shell.execute_reply": "2023-07-24T12:23:24.332077Z",
     "shell.execute_reply.started": "2023-07-24T12:23:24.318154Z"
    }
   },
   "outputs": [],
   "source": [
    "#preprocess\n",
    "def clean(mapping):\n",
    "    for key, captions in mapping.items():\n",
    "        for i in range(len(captions)):\n",
    "            #taking one caption at a time\n",
    "            caption = captions[i]\n",
    "            #preprocessing steps\n",
    "            caption = caption.lower()\n",
    "            #removeing digits, special charactrs, etc\n",
    "            caption = caption.replace('[^A-Za-z]', '')\n",
    "            #delete extra spaces\n",
    "            caption = caption.replace('\\s+', ' ')\n",
    "            #add start and end tags to the caption\n",
    "            caption = '<start>' + \" \".join([word for word in caption.split() if len(word)>1]) + '<end>'\n",
    "            captions[i] = caption"
   ]
  },
  {
   "cell_type": "code",
   "execution_count": null,
   "metadata": {
    "execution": {
     "iopub.execute_input": "2023-07-24T12:23:24.339102Z",
     "iopub.status.busy": "2023-07-24T12:23:24.336420Z",
     "iopub.status.idle": "2023-07-24T12:23:24.345952Z",
     "shell.execute_reply": "2023-07-24T12:23:24.345014Z",
     "shell.execute_reply.started": "2023-07-24T12:23:24.339058Z"
    }
   },
   "outputs": [],
   "source": [
    "#before preprocessing of text\n",
    "mapping['1000268201_693b08cb0e']"
   ]
  },
  {
   "cell_type": "code",
   "execution_count": null,
   "metadata": {
    "execution": {
     "iopub.execute_input": "2023-07-24T12:23:24.348669Z",
     "iopub.status.busy": "2023-07-24T12:23:24.347680Z",
     "iopub.status.idle": "2023-07-24T12:23:24.522949Z",
     "shell.execute_reply": "2023-07-24T12:23:24.521943Z",
     "shell.execute_reply.started": "2023-07-24T12:23:24.348634Z"
    }
   },
   "outputs": [],
   "source": [
    "#preprocess the text here\n",
    "clean(mapping)\n",
    "#after preprocessing\n",
    "mapping['1000268201_693b08cb0e']"
   ]
  },
  {
   "cell_type": "code",
   "execution_count": null,
   "metadata": {
    "execution": {
     "iopub.execute_input": "2023-07-24T12:23:24.525715Z",
     "iopub.status.busy": "2023-07-24T12:23:24.524760Z",
     "iopub.status.idle": "2023-07-24T12:23:24.542218Z",
     "shell.execute_reply": "2023-07-24T12:23:24.541211Z",
     "shell.execute_reply.started": "2023-07-24T12:23:24.525678Z"
    }
   },
   "outputs": [],
   "source": [
    "all_captions = []\n",
    "for key in mapping:\n",
    "    for caption in mapping[key]:\n",
    "        all_captions.append(caption)"
   ]
  },
  {
   "cell_type": "code",
   "execution_count": null,
   "metadata": {
    "execution": {
     "iopub.execute_input": "2023-07-24T12:23:24.544236Z",
     "iopub.status.busy": "2023-07-24T12:23:24.543692Z",
     "iopub.status.idle": "2023-07-24T12:23:24.556753Z",
     "shell.execute_reply": "2023-07-24T12:23:24.555685Z",
     "shell.execute_reply.started": "2023-07-24T12:23:24.544204Z"
    }
   },
   "outputs": [],
   "source": [
    "len(all_captions)\n",
    "all_captions[:10]"
   ]
  },
  {
   "cell_type": "code",
   "execution_count": null,
   "metadata": {
    "execution": {
     "iopub.execute_input": "2023-07-24T12:23:24.558902Z",
     "iopub.status.busy": "2023-07-24T12:23:24.558362Z",
     "iopub.status.idle": "2023-07-24T12:23:25.804588Z",
     "shell.execute_reply": "2023-07-24T12:23:25.803430Z",
     "shell.execute_reply.started": "2023-07-24T12:23:24.558864Z"
    }
   },
   "outputs": [],
   "source": [
    "#toeknize the text\n",
    "tokenizer = Tokenizer()\n",
    "tokenizer.fit_on_texts(all_captions)\n",
    "#get size\n",
    "vocab_size = len(tokenizer.word_index) + 1\n",
    "vocab_size"
   ]
  },
  {
   "cell_type": "code",
   "execution_count": null,
   "metadata": {
    "execution": {
     "iopub.execute_input": "2023-07-24T12:23:25.806883Z",
     "iopub.status.busy": "2023-07-24T12:23:25.806228Z",
     "iopub.status.idle": "2023-07-24T12:23:25.846666Z",
     "shell.execute_reply": "2023-07-24T12:23:25.845478Z",
     "shell.execute_reply.started": "2023-07-24T12:23:25.806842Z"
    }
   },
   "outputs": [],
   "source": [
    "#get maximum length of the caption available\n",
    "max_length = max(len(caption.split()) for caption in all_captions)\n",
    "max_length\n",
    "#this will be used for padding sequencec and model used later"
   ]
  },
  {
   "cell_type": "code",
   "execution_count": null,
   "metadata": {
    "execution": {
     "iopub.execute_input": "2023-07-24T12:23:25.848712Z",
     "iopub.status.busy": "2023-07-24T12:23:25.848139Z",
     "iopub.status.idle": "2023-07-24T12:23:25.855620Z",
     "shell.execute_reply": "2023-07-24T12:23:25.854659Z",
     "shell.execute_reply.started": "2023-07-24T12:23:25.848677Z"
    }
   },
   "outputs": [],
   "source": [
    "# Train and test split\n",
    "image_ids = list(mapping.keys())\n",
    "#split at 90% for training and remaining for testing\n",
    "split = int(len(image_ids) * 0.90)"
   ]
  },
  {
   "cell_type": "code",
   "execution_count": null,
   "metadata": {
    "execution": {
     "iopub.execute_input": "2023-07-24T12:23:25.857606Z",
     "iopub.status.busy": "2023-07-24T12:23:25.857192Z",
     "iopub.status.idle": "2023-07-24T12:23:25.868957Z",
     "shell.execute_reply": "2023-07-24T12:23:25.868048Z",
     "shell.execute_reply.started": "2023-07-24T12:23:25.857553Z"
    }
   },
   "outputs": [],
   "source": [
    "train = image_ids[:split]\n",
    "test = image_ids[split:]\n"
   ]
  },
  {
   "cell_type": "code",
   "execution_count": null,
   "metadata": {
    "execution": {
     "iopub.execute_input": "2023-07-24T12:23:25.871023Z",
     "iopub.status.busy": "2023-07-24T12:23:25.870626Z",
     "iopub.status.idle": "2023-07-24T12:23:25.882481Z",
     "shell.execute_reply": "2023-07-24T12:23:25.881517Z",
     "shell.execute_reply.started": "2023-07-24T12:23:25.870970Z"
    }
   },
   "outputs": [],
   "source": [
    "#create data generator to image and caption in batch size (avoid crash)\n",
    "#to easily load into model or session and train it\n",
    "def data_generator(data_keys, mapping, features, tokenizer, max_length, vocab_size, batch_size):\n",
    "    # loop over images\n",
    "    X1, X2, y = list(), list(), list()\n",
    "    n = 0\n",
    "    while 1:\n",
    "        for key in data_keys:\n",
    "            n += 1\n",
    "            captions = mapping[key]\n",
    "            # process each caption\n",
    "            for caption in captions:\n",
    "                # encode the sequence\n",
    "                seq = tokenizer.texts_to_sequences([caption])[0]\n",
    "                # split the sequence into X, y pairs\n",
    "                for i in range(1, len(seq)):\n",
    "                    # split into input and output pairs\n",
    "                    in_seq, out_seq = seq[:i], seq[i]\n",
    "                    # pad input sequence\n",
    "                    in_seq = pad_sequences([in_seq], maxlen=max_length)[0]\n",
    "                    # encode output sequence\n",
    "                    out_seq = to_categorical([out_seq], num_classes=vocab_size)[0]\n",
    "                    \n",
    "                    # store the sequences\n",
    "                    X1.append(features[key][0])\n",
    "                    X2.append(in_seq)\n",
    "                    y.append(out_seq)\n",
    "            if n == batch_size:\n",
    "                X1, X2, y = np.array(X1), np.array(X2), np.array(y)\n",
    "                yield [X1, X2], y\n",
    "                X1, X2, y = list(), list(), list()\n",
    "                n = 0"
   ]
  },
  {
   "cell_type": "code",
   "execution_count": null,
   "metadata": {
    "execution": {
     "iopub.execute_input": "2023-07-24T12:23:25.884400Z",
     "iopub.status.busy": "2023-07-24T12:23:25.884010Z",
     "iopub.status.idle": "2023-07-24T12:23:27.314122Z",
     "shell.execute_reply": "2023-07-24T12:23:27.313051Z",
     "shell.execute_reply.started": "2023-07-24T12:23:25.884321Z"
    }
   },
   "outputs": [],
   "source": [
    "# encoder model\n",
    "# image feature layers\n",
    "inputs1 = Input(shape=(4096,))\n",
    "fe1 = Dropout(0.4)(inputs1)\n",
    "fe2 = Dense(256, activation='relu')(fe1)\n",
    "# sequence feature layers\n",
    "inputs2 = Input(shape=(max_length,))\n",
    "se1 = Embedding(vocab_size, 256, mask_zero=True)(inputs2)\n",
    "se2 = Dropout(0.4)(se1)\n",
    "se3 = LSTM(256)(se2)\n",
    "\n",
    "# decoder model\n",
    "decoder1 = add([fe2, se3])\n",
    "decoder2 = Dense(256, activation='relu')(decoder1)\n",
    "outputs = Dense(vocab_size, activation='softmax')(decoder2)\n",
    "\n",
    "model = Model(inputs=[inputs1, inputs2], outputs=outputs)\n",
    "model.compile(loss='categorical_crossentropy', optimizer='adam')\n",
    "\n",
    "# plot the model\n",
    "plot_model(model, show_shapes=True)"
   ]
  },
  {
   "cell_type": "code",
   "execution_count": null,
   "metadata": {
    "execution": {
     "iopub.execute_input": "2023-07-24T12:23:27.315558Z",
     "iopub.status.busy": "2023-07-24T12:23:27.315195Z",
     "iopub.status.idle": "2023-07-24T12:23:27.320831Z",
     "shell.execute_reply": "2023-07-24T12:23:27.319414Z",
     "shell.execute_reply.started": "2023-07-24T12:23:27.315521Z"
    }
   },
   "outputs": [],
   "source": [
    "#train the model\n",
    "epochs = 15\n",
    "batch_size = 64\n",
    "#steps means after each step it back propogates to train data\n",
    "steps = len(train) // batch_size\n"
   ]
  },
  {
   "cell_type": "code",
   "execution_count": null,
   "metadata": {
    "execution": {
     "iopub.execute_input": "2023-07-24T12:23:27.323160Z",
     "iopub.status.busy": "2023-07-24T12:23:27.322515Z",
     "iopub.status.idle": "2023-07-24T12:41:45.265080Z",
     "shell.execute_reply": "2023-07-24T12:41:45.263912Z",
     "shell.execute_reply.started": "2023-07-24T12:23:27.323125Z"
    }
   },
   "outputs": [],
   "source": [
    "for i in range(epochs):\n",
    "    # create data generator\n",
    "    generator = data_generator(train, mapping, features, tokenizer, max_length, vocab_size, batch_size)\n",
    "    # fit for one epoch\n",
    "    model.fit(generator, epochs=1, steps_per_epoch=steps, verbose=1)\n"
   ]
  },
  {
   "cell_type": "markdown",
   "metadata": {},
   "source": []
  },
  {
   "cell_type": "code",
   "execution_count": null,
   "metadata": {
    "execution": {
     "iopub.execute_input": "2023-07-24T12:41:45.267508Z",
     "iopub.status.busy": "2023-07-24T12:41:45.267113Z",
     "iopub.status.idle": "2023-07-24T12:41:45.272481Z",
     "shell.execute_reply": "2023-07-24T12:41:45.271256Z",
     "shell.execute_reply.started": "2023-07-24T12:41:45.267470Z"
    }
   },
   "outputs": [],
   "source": [
    "#to save the model\n",
    "#model.save(WORKING_DIR + '/best_model.h5')"
   ]
  },
  {
   "cell_type": "code",
   "execution_count": null,
   "metadata": {
    "execution": {
     "iopub.execute_input": "2023-07-24T12:53:57.389185Z",
     "iopub.status.busy": "2023-07-24T12:53:57.388604Z",
     "iopub.status.idle": "2023-07-24T12:53:57.394837Z",
     "shell.execute_reply": "2023-07-24T12:53:57.393793Z",
     "shell.execute_reply.started": "2023-07-24T12:53:57.389147Z"
    }
   },
   "outputs": [],
   "source": [
    "#generate captions for the image\n",
    "def idx_to_word(integer, tokenizer):\n",
    "    for word, index in tokenizer.word_index.items():\n",
    "        if index == integer:\n",
    "            return word\n",
    "    return None"
   ]
  },
  {
   "cell_type": "code",
   "execution_count": null,
   "metadata": {
    "execution": {
     "iopub.execute_input": "2023-07-24T12:53:59.691192Z",
     "iopub.status.busy": "2023-07-24T12:53:59.690174Z",
     "iopub.status.idle": "2023-07-24T12:53:59.698873Z",
     "shell.execute_reply": "2023-07-24T12:53:59.697733Z",
     "shell.execute_reply.started": "2023-07-24T12:53:59.691145Z"
    }
   },
   "outputs": [],
   "source": [
    "def predict_caption(model, image, tokenizer, max_length):\n",
    "    #add start tag to generate process\n",
    "    in_text = '<start>'\n",
    "    #iterate over seq\n",
    "    for i in range(max_length):\n",
    "        #encode input sequence\n",
    "        sequence = tokenizer.texts_to_sequences([in_text])[0]\n",
    "        #pad the seq\n",
    "        sequence = pad_sequences([sequence], max_length)\n",
    "        #predict next word\n",
    "        yhat = model.predict([image, sequence], verbose=0)\n",
    "        #get index of highest probability\n",
    "        yhat = np.argmax(yhat)\n",
    "        #convert index to word\n",
    "        word = idx_to_word(yhat, tokenizer)\n",
    "        #stop if the word not found\n",
    "        if word is None:\n",
    "            break\n",
    "        #append word as input for generating next word\n",
    "        in_text += \" \" + word\n",
    "        if word == '<end>':\n",
    "            break\n",
    "    return in_text  "
   ]
  },
  {
   "cell_type": "code",
   "execution_count": null,
   "metadata": {
    "execution": {
     "iopub.execute_input": "2023-07-24T13:12:36.616803Z",
     "iopub.status.busy": "2023-07-24T13:12:36.615184Z"
    }
   },
   "outputs": [],
   "source": [
    "from nltk.translate.bleu_score import corpus_bleu\n",
    "# validate with test data\n",
    "actual, predicted = list(), list()\n",
    "\n",
    "for key in tqdm(test):\n",
    "    # get actual caption\n",
    "    captions = mapping[key]\n",
    "    # predict the caption for image\n",
    "    y_pred = predict_caption(model, features[key], tokenizer, max_length) \n",
    "    # split into words\n",
    "    actual_captions = [caption.split() for caption in captions]\n",
    "    y_pred = y_pred.split()\n",
    "    # append to the list\n",
    "    actual.append(actual_captions)\n",
    "    predicted.append(y_pred)\n",
    "    \n",
    "# calcuate BLEU score\n",
    "print(\"BLEU-1: %f\" % corpus_bleu(actual, predicted, weights=(1.0, 0, 0, 0)))\n",
    "print(\"BLEU-2: %f\" % corpus_bleu(actual, predicted, weights=(0.5, 0.5, 0, 0)))"
   ]
  },
  {
   "cell_type": "code",
   "execution_count": null,
   "metadata": {
    "execution": {
     "iopub.status.busy": "2023-07-24T12:41:47.812693Z",
     "iopub.status.idle": "2023-07-24T12:41:47.813525Z",
     "shell.execute_reply": "2023-07-24T12:41:47.813276Z",
     "shell.execute_reply.started": "2023-07-24T12:41:47.813249Z"
    }
   },
   "outputs": [],
   "source": [
    "from PIL import Image\n",
    "import matplotlib.pyplot as plt\n",
    "def generate_caption(image_name):\n",
    "    # load the image\n",
    "    # image_name = \"1001773457_577c3a7d70.jpg\"\n",
    "    image_id = image_name.split('.')[0]\n",
    "    img_path = os.path.join(BASE_DIR, \"Images\", image_name)\n",
    "    image = Image.open(img_path)\n",
    "    captions = mapping[image_id]\n",
    "    print('---------------------Actual---------------------')\n",
    "    for caption in captions:\n",
    "        print(caption)\n",
    "    # predict the caption\n",
    "    y_pred = predict_caption(model, features[image_id], tokenizer, max_length)\n",
    "    print('--------------------Predicted--------------------')\n",
    "    print(y_pred)\n",
    "    plt.imshow(image)"
   ]
  },
  {
   "cell_type": "code",
   "execution_count": null,
   "metadata": {
    "execution": {
     "iopub.status.busy": "2023-07-24T12:41:47.814978Z",
     "iopub.status.idle": "2023-07-24T12:41:47.815782Z",
     "shell.execute_reply": "2023-07-24T12:41:47.815518Z",
     "shell.execute_reply.started": "2023-07-24T12:41:47.815493Z"
    }
   },
   "outputs": [],
   "source": [
    "generate_caption(\"1001773457_577c3a7d70.jpg\")"
   ]
  },
  {
   "cell_type": "code",
   "execution_count": null,
   "metadata": {
    "execution": {
     "iopub.status.busy": "2023-07-24T12:41:47.817178Z",
     "iopub.status.idle": "2023-07-24T12:41:47.818116Z",
     "shell.execute_reply": "2023-07-24T12:41:47.817835Z",
     "shell.execute_reply.started": "2023-07-24T12:41:47.817809Z"
    }
   },
   "outputs": [],
   "source": [
    "generate_caption(\"1002674143_1b742ab4b8.jpg\")"
   ]
  },
  {
   "cell_type": "code",
   "execution_count": null,
   "metadata": {
    "execution": {
     "iopub.status.busy": "2023-07-24T12:41:47.819597Z",
     "iopub.status.idle": "2023-07-24T12:41:47.820367Z",
     "shell.execute_reply": "2023-07-24T12:41:47.820120Z",
     "shell.execute_reply.started": "2023-07-24T12:41:47.820094Z"
    }
   },
   "outputs": [],
   "source": [
    "vgg_model = VGG16()\n",
    "# restructure the model\n",
    "vgg_model = Model(inputs=vgg_model.inputs, outputs=vgg_model.layers[-2].output)\n",
    "image_path = '/kaggle/input/flickr8k/Images/1000268201_693b08cb0e.jpg'\n",
    "# load image\n",
    "image = load_img(image_path, target_size=(224, 224))\n",
    "# convert image pixels to numpy array\n",
    "image = img_to_array(image)\n",
    "# reshape data for model\n",
    "image = image.reshape((1, image.shape[0], image.shape[1], image.shape[2]))\n",
    "# preprocess image for vgg\n",
    "image = preprocess_input(image)\n",
    "# extract features\n",
    "feature = vgg_model.predict(image, verbose=0)\n",
    "# predict from the trained model\n",
    "predict_caption(model, feature, tokenizer, max_length)"
   ]
  },
  {
   "cell_type": "code",
   "execution_count": null,
   "metadata": {},
   "outputs": [],
   "source": []
  },
  {
   "cell_type": "code",
   "execution_count": null,
   "metadata": {},
   "outputs": [],
   "source": []
  }
 ],
 "metadata": {
  "kernelspec": {
   "display_name": "Python 3 (ipykernel)",
   "language": "python",
   "name": "python3"
  },
  "language_info": {
   "codemirror_mode": {
    "name": "ipython",
    "version": 3
   },
   "file_extension": ".py",
   "mimetype": "text/x-python",
   "name": "python",
   "nbconvert_exporter": "python",
   "pygments_lexer": "ipython3",
   "version": "3.9.12"
  }
 },
 "nbformat": 4,
 "nbformat_minor": 4
}
